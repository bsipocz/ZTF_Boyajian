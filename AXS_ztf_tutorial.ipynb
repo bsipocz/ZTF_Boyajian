{
 "cells": [
  {
   "cell_type": "code",
   "execution_count": 1,
   "metadata": {},
   "outputs": [],
   "source": [
    "%matplotlib notebook\n",
    "%matplotlib inline\n",
    "\n",
    "import axs\n",
    "import numpy as np\n",
    "\n",
    "from astropy.io import fits\n",
    "import astropy.coordinates as coord\n",
    "import astropy.units as u\n",
    "\n",
    "import pandas as pd\n",
    "import matplotlib.pyplot as plt"
   ]
  },
  {
   "cell_type": "code",
   "execution_count": 2,
   "metadata": {},
   "outputs": [],
   "source": [
    "def spark_start(local_dir):\n",
    "    from pyspark.sql import SparkSession\n",
    "    \n",
    "    spark = (\n",
    "            SparkSession.builder\n",
    "            .appName(\"LSD2\")\n",
    "            .config(\"spark.sql.warehouse.dir\", local_dir)\n",
    "            .config('spark.master', \"local[6]\")\n",
    "            .config('spark.driver.memory', '8G') # 128\n",
    "            .config('spark.local.dir', local_dir)\n",
    "            .config('spark.memory.offHeap.enabled', 'true')\n",
    "            .config('spark.memory.offHeap.size', '4G') # 256\n",
    "            .config(\"spark.sql.execution.arrow.enabled\", \"true\")\n",
    "            .config(\"spark.driver.maxResultSize\", \"6G\")\n",
    "            .config(\"spark.driver.extraJavaOptions\", f\"-Dderby.system.home={local_dir}\")\n",
    "            .enableHiveSupport()\n",
    "            .getOrCreate()\n",
    "                    )   \n",
    "\n",
    "    return spark\n",
    "\n",
    "spark_session = spark_start(\"/epyc/users/ecbellm/spark-tmp/\")\n",
    "\n",
    "catalog = axs.AxsCatalog(spark_session)\n"
   ]
  },
  {
   "cell_type": "code",
   "execution_count": 3,
   "metadata": {},
   "outputs": [
    {
     "data": {
      "text/html": [
       "\n",
       "            <div>\n",
       "                <p><b>SparkSession - hive</b></p>\n",
       "                \n",
       "        <div>\n",
       "            <p><b>SparkContext</b></p>\n",
       "\n",
       "            <p><a href=\"http://epyc.astro.washington.edu:4040\">Spark UI</a></p>\n",
       "\n",
       "            <dl>\n",
       "              <dt>Version</dt>\n",
       "                <dd><code>v2.4.0-SNAPSHOT</code></dd>\n",
       "              <dt>Master</dt>\n",
       "                <dd><code>local[6]</code></dd>\n",
       "              <dt>AppName</dt>\n",
       "                <dd><code>LSD2</code></dd>\n",
       "            </dl>\n",
       "        </div>\n",
       "        \n",
       "            </div>\n",
       "        "
      ],
      "text/plain": [
       "<pyspark.sql.session.SparkSession at 0x7f67338b3be0>"
      ]
     },
     "execution_count": 3,
     "metadata": {},
     "output_type": "execute_result"
    }
   ],
   "source": [
    "spark_session"
   ]
  },
  {
   "cell_type": "markdown",
   "metadata": {},
   "source": [
    "Hovering over \"Spark UI\" above gives you the port number of the Spark web dashboard.  Epyc doesn't have that port open, though, so we use an SSH tunnel to forward the ports.  I like to put the following function into my `.bashrc` o my local machine:\n",
    "\n",
    "\n",
    "```\n",
    "function spark_tunnel()\n",
    "{\n",
    "        # this function takes one argument: the epyc port to tunnel\n",
    "        # the ordering is backwards (requiring a manual refresh) because\n",
    "        # I want to be able to manually kill the ssh tunnel\n",
    "        open http://localhost:${1}/\n",
    "        ssh -N -L ${1}:127.0.0.1:${1} username@epyc.astro.washington.edu\n",
    "}\n",
    "```"
   ]
  },
  {
   "cell_type": "markdown",
   "metadata": {},
   "source": [
    "What tables does AXS know about?"
   ]
  },
  {
   "cell_type": "code",
   "execution_count": 4,
   "metadata": {},
   "outputs": [
    {
     "data": {
      "text/plain": [
       "dict_keys(['sdss_zoned1am_hd', 'gaia_zoned1am_hd', 'gaia_dr2_1am_dup', 'sdss_zoned1am_700lc', 'gaia_dr2_700lc2', 'allwise_1am_dup', 'gaia_sdss_wise_1asec', 'gaia_sdss_3asec', 'ztf_1am_old', 'ztf_exposures', 'ztf_1am_lc', 'ztf_1am', 'ztf_1am_test', 'sesar_rrlyrae', 'ztf_fid1_sdss_stars_lt20_2asec', 'ztf_fid2_sdss_stars_lt20_2asec', 'ztf_fid3_sdss_stars_lt20_2asec', 'sdss_dr9_qso_s82', 'faraway_training_dataset', 'faraway_labeled_training_dataset', 'ztf_nobs100', 'jnk_ztf_test', 'jnk_ztf_test2', 'ztf1000', 'ztf10', 'ztf_dec18', 'asassn_variability_catalog', 'ztf10_assasn', 'ztf10_assasn_cesium', 'ztf10_assasn_best', 'ztf10_assasn_cesium_best', 'unwise_v1', 'cklein_flare', 'unwise_v2', 'cesium_speedtest_ztfsample', 'paula_listcvs', 'nemec_rrlyrae_metalicity', 'dambis_rrlyrae_metalicity', 'sdss_500b_28e_10800z', 'gaia_500b_28e_10800z', 'allwise_500b_28e_10800z', 'ztf_500b_28e_10800z', 'ztf_mar19_all', 'ztf_dr1_s82_qso', 'green19_stellar_params', 'catalina_variables_n', 'caltech_rosat_periods', 'gaia', 'gaia_dr2_bailer_jones_distances', 'ztf_mar19_2rxs_obj', 'gaia_dr2_1am_dup_ssd', 'ztf_f257_zr_pr2', 'ztf_f258_zr_pr2', 'ztf_f26x_zr_pr2'])"
      ]
     },
     "execution_count": 4,
     "metadata": {},
     "output_type": "execute_result"
    }
   ],
   "source": [
    "catalog.list_tables().keys()"
   ]
  },
  {
   "cell_type": "markdown",
   "metadata": {},
   "source": [
    "##  Exploring ZTF"
   ]
  },
  {
   "cell_type": "code",
   "execution_count": 5,
   "metadata": {},
   "outputs": [],
   "source": [
    "ztf = catalog.load('ztf_mar19_all')"
   ]
  },
  {
   "cell_type": "code",
   "execution_count": 6,
   "metadata": {},
   "outputs": [
    {
     "data": {
      "text/plain": [
       "['matchid',\n",
       " 'ra',\n",
       " 'dec',\n",
       " 'nobs_avail',\n",
       " 'combined_matchids',\n",
       " 'mjd',\n",
       " 'programid',\n",
       " 'filterid',\n",
       " 'mag',\n",
       " 'magerr',\n",
       " 'psfmag',\n",
       " 'psfmagerr',\n",
       " 'psfflux',\n",
       " 'psffluxerr',\n",
       " 'chi',\n",
       " 'catflags',\n",
       " 'sharp',\n",
       " 'xpos',\n",
       " 'ypos',\n",
       " 'zone',\n",
       " 'dup']"
      ]
     },
     "execution_count": 6,
     "metadata": {},
     "output_type": "execute_result"
    }
   ],
   "source": [
    "ztf.columns"
   ]
  },
  {
   "cell_type": "markdown",
   "metadata": {},
   "source": [
    "Look at the top 1 row:"
   ]
  },
  {
   "cell_type": "code",
   "execution_count": 23,
   "metadata": {},
   "outputs": [
    {
     "data": {
      "text/plain": [
       "[Row(matchid=10294422001559, ra=0.029200815384615383, dec=-16.263277997435896, nobs_avail=39, combined_matchids=[10294421013987, 10294421013987, 10294421013987, 10294421013987, 10294421013987, 10294421013987, 10294421013987, 10294421013987, 10294421013987, 10294421013987, 10294421013987, 10294421013987, 10294421013987, 10294421013987, 10294421013987, 10294422001559, 10294422001559, 10294422001559, 10294422001559, 10294422001559, 10294422001559, 10294422001559, 10294422001559, 10294422001559, 10294422001559, 10294422001559, 10294422001559, 10294422001559, 10294422001559, 10294422001559, 10294422001559, 10294422001559, 10294422001559, 10294422001559, 10294422001559, 10294422001559, 10294422001559, 10294422001559, 10294422001559], mjd=[58429.2307176, 58378.3356597, 58426.3169329, 58323.4388194, 58366.3977315, 58338.4080093, 58351.418831, 58345.4153588, 58423.2403356, 58342.436956, 58369.3298611, 58372.4009954, 58432.2429861, 58363.3348495, 58390.3144097, 58360.3542824, 58472.1060532, 58426.2527778, 58323.4809606, 58354.4090509, 58378.3773264, 58354.3533333, 58338.4618403, 58429.2522917, 58363.4237731, 58348.4140394, 58351.3726736, 58372.371331, 58290.480544, 58375.3357755, 58432.2522222, 58320.4817477, 58332.4182523, 58342.4621875, 58390.2685764, 58369.3774769, 58335.4381366, 58382.3158681, 58366.3486574], programid=[1, 1, 1, 1, 1, 1, 1, 1, 1, 1, 1, 1, 1, 1, 1, 1, 1, 1, 1, 1, 1, 1, 1, 1, 1, 1, 1, 1, 1, 1, 1, 1, 1, 1, 1, 1, 1, 1, 1], filterid=[1, 1, 1, 1, 1, 1, 1, 1, 1, 1, 1, 1, 1, 1, 1, 2, 2, 2, 2, 2, 2, 2, 2, 2, 2, 2, 2, 2, 2, 2, 2, 2, 2, 2, 2, 2, 2, 2, 2], mag=[20.52320671081543, 20.821575164794922, 20.585926055908203, 20.539337158203125, 20.541175842285156, 20.734291076660156, 20.50154685974121, 20.308853149414062, 20.584842681884766, 20.639564514160156, 20.595897674560547, 20.529415130615234, 20.647716522216797, 20.641342163085938, 20.3294620513916, 19.837047576904297, 19.966659545898438, 20.30284309387207, 20.21855926513672, 20.41679573059082, 20.11280059814453, 20.279518127441406, 20.231952667236328, 20.239704132080078, 20.18246078491211, 20.159944534301758, 20.132511138916016, 20.278358459472656, 20.140403747558594, 20.097074508666992, 20.00757598876953, 20.230989456176758, 20.361095428466797, 19.957855224609375, 20.20929527282715, 20.179622650146484, 20.169395446777344, 20.071941375732422, 20.224212646484375], magerr=[0.14372503757476807, 0.16154265403747559, 0.14747047424316406, 0.14468836784362793, 0.1447981595993042, 0.15633034706115723, 0.1424316167831421, 0.13231007754802704, 0.147405743598938, 0.15067362785339355, 0.14806592464447021, 0.144095778465271, 0.1511603593826294, 0.15077972412109375, 0.1334926337003708, 0.10343597829341888, 0.11251258850097656, 0.13754260540008545, 0.13117675483226776, 0.1460341513156891, 0.12322573363780975, 0.13578322529792786, 0.13218875229358673, 0.13277462124824524, 0.1284523755311966, 0.12675748765468597, 0.12469904124736786, 0.13569556176662445, 0.12529046833515167, 0.12205412983894348, 0.11546806246042252, 0.13211596012115479, 0.14191249012947083, 0.11188191175460815, 0.1304769366979599, 0.12823839485645294, 0.12746837735176086, 0.12018980830907822, 0.13160386681556702], psfmag=[20.52320671081543, 20.821575164794922, 20.585926055908203, 20.539337158203125, 20.541175842285156, 20.734291076660156, 20.50154685974121, 20.308853149414062, 20.584842681884766, 20.639564514160156, 20.595897674560547, 20.529415130615234, 20.647716522216797, 20.641342163085938, 20.3294620513916, 19.837047576904297, 19.966659545898438, 20.30284309387207, 20.21855926513672, 20.41679573059082, 20.11280059814453, 20.279518127441406, 20.231952667236328, 20.239704132080078, 20.18246078491211, 20.159944534301758, 20.132511138916016, 20.278358459472656, 20.140403747558594, 20.097074508666992, 20.00757598876953, 20.230989456176758, 20.361095428466797, 19.957855224609375, 20.20929527282715, 20.179622650146484, 20.169395446777344, 20.071941375732422, 20.224212646484375], psfmagerr=[0.11400000005960464, 0.1770000010728836, 0.31299999356269836, 0.16300000250339508, 0.21299999952316284, 0.24500000476837158, 0.1550000011920929, 0.11900000274181366, 0.20200000703334808, 0.17499999701976776, 0.19099999964237213, 0.1899999976158142, 0.3269999921321869, 0.3569999933242798, 0.2759999930858612, 0.22499999403953552, 0.20200000703334808, 0.3199999928474426, 0.13500000536441803, 0.2849999964237213, 0.10700000077486038, 0.24300000071525574, 0.12399999797344208, 0.14399999380111694, 0.16699999570846558, 0.10499999672174454, 0.13699999451637268, 0.10899999737739563, 0.3009999990463257, 0.12600000202655792, 0.23899999260902405, 0.11699999868869781, 0.33000001311302185, 0.12600000202655792, 0.19499999284744263, 0.0989999994635582, 0.1809999942779541, 0.210999995470047, 0.11299999803304672], psfflux=[191.24563598632812, 147.75660705566406, 149.0281219482422, 179.8417205810547, 197.1156768798828, 144.69248962402344, 186.60198974609375, 204.89398193359375, 183.45167541503906, 139.1451416015625, 175.8006591796875, 191.78863525390625, 166.39573669433594, 165.9228057861328, 228.7760467529297, 381.1890869140625, 344.3011474609375, 189.44644165039062, 262.6701965332031, 221.56874084472656, 299.5089111328125, 251.5665283203125, 252.5135040283203, 263.90570068359375, 267.3955383300781, 271.4394226074219, 283.13763427734375, 260.7051696777344, 278.9226379394531, 301.4784851074219, 324.9134216308594, 251.80294799804688, 220.73556518554688, 295.3309020996094, 270.6766662597656, 272.9713134765625, 279.1842346191406, 304.5993347167969, 271.9491271972656], psffluxerr=[20.133228302001953, 24.114946365356445, 42.98982238769531, 26.949684143066406, 38.688358306884766, 32.69032287597656, 26.673723220825195, 22.381521224975586, 34.08028793334961, 22.478809356689453, 30.95879554748535, 33.56233215332031, 50.14540481567383, 54.49580764770508, 58.240386962890625, 78.8543930053711, 64.02513122558594, 55.80082321166992, 32.53934097290039, 58.119808197021484, 29.48921012878418, 56.21074295043945, 28.908889770507812, 35.05013656616211, 41.20270919799805, 26.225521087646484, 35.59638977050781, 26.124874114990234, 77.37744903564453, 34.8755989074707, 71.40255737304688, 27.134532928466797, 67.02964782714844, 34.32763671875, 48.63890075683594, 24.814746856689453, 46.54201126098633, 59.279441833496094, 28.228466033935547], chi=[0.45500001311302185, 0.5740000009536743, 0.9190000295639038, 0.9940000176429749, 1.1089999675750732, 1.152999997138977, 1.3300000429153442, 0.414000004529953, 0.925000011920929, 0.8920000195503235, 1.0950000286102295, 0.7730000019073486, 1.281000018119812, 1.0859999656677246, 0.5569999814033508, 0.5440000295639038, 0.47999998927116394, 0.8980000019073486, 0.7799999713897705, 0.765999972820282, 0.5979999899864197, 0.5669999718666077, 0.4050000011920929, 1.0509999990463257, 0.4959999918937683, 0.6269999742507935, 1.2139999866485596, 0.328000009059906, 0.5920000076293945, 0.8920000195503235, 0.8880000114440918, 0.8059999942779541, 0.367000013589859, 0.8330000042915344, 0.6019999980926514, 0.453000009059906, 1.0750000476837158, 0.6909999847412109, 0.6430000066757202], catflags=[0, 0, 0, 0, 0, 0, 0, 0, 0, 0, 0, 0, 0, 0, 0, 0, 0, -32768, 0, 0, 0, 0, 0, 0, 0, 0, 0, 0, 0, 0, 0, 0, 0, 0, 0, 0, 0, 0, 0], sharp=[-0.020999999716877937, -0.19499999284744263, -0.2709999978542328, -0.17900000512599945, -0.07100000232458115, 0.00800000037997961, 0.05999999865889549, -0.0430000014603138, -0.15399999916553497, -0.19499999284744263, 0.08699999749660492, -0.08399999886751175, -0.08900000154972076, -0.2639999985694885, -0.21299999952316284, -0.21899999678134918, -0.05000000074505806, 0.028999999165534973, 0.04500000178813934, 0.2160000056028366, 0.03400000184774399, -0.21799999475479126, -0.0949999988079071, -0.09700000286102295, -0.04699999839067459, -0.07400000095367432, -0.1469999998807907, 0.014000000432133675, -0.33500000834465027, -0.054999999701976776, -0.24899999797344208, 0.020999999716877937, -0.07900000363588333, -0.20000000298023224, -0.1550000011920929, -0.014000000432133675, -0.05900000035762787, 0.17499999701976776, -0.11400000005960464], xpos=[2146.785888671875, 2133.739990234375, 2154.0, 2111.368896484375, 2136.56298828125, 2121.302978515625, 2133.113037109375, 2126.491943359375, 2157.009033203125, 2127.056884765625, 2125.736083984375, 2143.489013671875, 2154.177001953125, 2120.31103515625, 2139.132080078125, 2121.820068359375, 2148.985107421875, 2151.136962890625, 2123.52294921875, 2132.888916015625, 2142.052001953125, 2118.492919921875, 2137.660888671875, 2166.76708984375, 2140.625, 2126.241943359375, 2116.972900390625, 2142.803955078125, 2114.5869140625, 2135.033935546875, 2162.447998046875, 2123.27294921875, 2069.04296875, 2133.52099609375, 2139.47607421875, 2141.9619140625, 2129.7109375, 2126.847900390625, 2125.658935546875], ypos=[667.2349853515625, 565.3690185546875, 653.9550170898438, 707.5440063476562, 568.968994140625, 797.9219970703125, 780.5250244140625, 625.843017578125, 680.177978515625, 710.5050048828125, 564.10400390625, 585.5670166015625, 684.218994140625, 564.8319702148438, 483.02301025390625, 568.0469970703125, 684.3270263671875, 662.4249877929688, 715.4310302734375, 613.625, 566.7620239257812, 604.7369995117188, 806.10400390625, 669.0599975585938, 568.6119995117188, 580.6270141601562, 576.1079711914062, 588.280029296875, 636.4429931640625, 568.8109741210938, 685.6610107421875, 642.708984375, 784.3610229492188, 714.9500122070312, 473.2919921875, 570.5449829101562, 704.4650268554688, 463.4700012207031, 565.6320190429688], zone=4424, dup=0)]"
      ]
     },
     "execution_count": 23,
     "metadata": {},
     "output_type": "execute_result"
    }
   ],
   "source": [
    "ztf.head(1)"
   ]
  },
  {
   "cell_type": "markdown",
   "metadata": {},
   "source": [
    "### Region query"
   ]
  },
  {
   "cell_type": "code",
   "execution_count": 24,
   "metadata": {},
   "outputs": [
    {
     "name": "stdout",
     "output_type": "stream",
     "text": [
      "CPU times: user 10.7 ms, sys: 4.52 ms, total: 15.2 ms\n",
      "Wall time: 19.4 s\n"
     ]
    }
   ],
   "source": [
    "%%time \n",
    "testra = 287.9869104\n",
    "testdec = 13.0748496\n",
    "d = 10/3600.\n",
    "\n",
    "radec = ztf.region(ra1=testra-d, ra2=testra+d, dec1=testdec-d, dec2=testdec+d).select(\"ra\", \"dec\").toPandas()\n"
   ]
  },
  {
   "cell_type": "code",
   "execution_count": 25,
   "metadata": {},
   "outputs": [
    {
     "data": {
      "text/html": [
       "<div>\n",
       "<style scoped>\n",
       "    .dataframe tbody tr th:only-of-type {\n",
       "        vertical-align: middle;\n",
       "    }\n",
       "\n",
       "    .dataframe tbody tr th {\n",
       "        vertical-align: top;\n",
       "    }\n",
       "\n",
       "    .dataframe thead th {\n",
       "        text-align: right;\n",
       "    }\n",
       "</style>\n",
       "<table border=\"1\" class=\"dataframe\">\n",
       "  <thead>\n",
       "    <tr style=\"text-align: right;\">\n",
       "      <th></th>\n",
       "      <th>ra</th>\n",
       "      <th>dec</th>\n",
       "    </tr>\n",
       "  </thead>\n",
       "  <tbody>\n",
       "    <tr>\n",
       "      <th>0</th>\n",
       "      <td>287.985648</td>\n",
       "      <td>13.076047</td>\n",
       "    </tr>\n",
       "    <tr>\n",
       "      <th>1</th>\n",
       "      <td>287.985927</td>\n",
       "      <td>13.075574</td>\n",
       "    </tr>\n",
       "    <tr>\n",
       "      <th>2</th>\n",
       "      <td>287.986183</td>\n",
       "      <td>13.076572</td>\n",
       "    </tr>\n",
       "    <tr>\n",
       "      <th>3</th>\n",
       "      <td>287.986859</td>\n",
       "      <td>13.074891</td>\n",
       "    </tr>\n",
       "    <tr>\n",
       "      <th>4</th>\n",
       "      <td>287.988868</td>\n",
       "      <td>13.074120</td>\n",
       "    </tr>\n",
       "  </tbody>\n",
       "</table>\n",
       "</div>"
      ],
      "text/plain": [
       "           ra        dec\n",
       "0  287.985648  13.076047\n",
       "1  287.985927  13.075574\n",
       "2  287.986183  13.076572\n",
       "3  287.986859  13.074891\n",
       "4  287.988868  13.074120"
      ]
     },
     "execution_count": 25,
     "metadata": {},
     "output_type": "execute_result"
    }
   ],
   "source": [
    "radec"
   ]
  },
  {
   "cell_type": "markdown",
   "metadata": {},
   "source": [
    "`toPandas()` is convenient but requires bringing things into memory.  Can also do `collect()` and get a `list` of Spark `Rows`:"
   ]
  },
  {
   "cell_type": "code",
   "execution_count": 27,
   "metadata": {},
   "outputs": [
    {
     "data": {
      "text/plain": [
       "[Row(ra=287.9856482260273, dec=13.076046963013694),\n",
       " Row(ra=287.98592663333335, dec=13.075574066666668),\n",
       " Row(ra=287.9861826000002, dec=13.076572423893802),\n",
       " Row(ra=287.9868585223528, dec=13.074891416862743),\n",
       " Row(ra=287.9888677572583, dec=13.074119947983874)]"
      ]
     },
     "execution_count": 27,
     "metadata": {},
     "output_type": "execute_result"
    }
   ],
   "source": [
    "ztf.region(ra1=testra-d, ra2=testra+d, dec1=testdec-d, dec2=testdec+d).select(\"ra\", \"dec\").collect()\n"
   ]
  },
  {
   "cell_type": "markdown",
   "metadata": {},
   "source": [
    "AXS has a `cone` search but it is much slower [at present](https://github.com/dirac-institute/AXS/issues/4)."
   ]
  },
  {
   "cell_type": "markdown",
   "metadata": {},
   "source": [
    "### Crossmatch to Gaia"
   ]
  },
  {
   "cell_type": "code",
   "execution_count": 18,
   "metadata": {},
   "outputs": [],
   "source": [
    "gaia = catalog.load('gaia_dr2_1am_dup')"
   ]
  },
  {
   "cell_type": "code",
   "execution_count": 19,
   "metadata": {},
   "outputs": [
    {
     "data": {
      "text/plain": [
       "['solution_id',\n",
       " 'designation',\n",
       " 'source_id',\n",
       " 'random_index',\n",
       " 'ref_epoch',\n",
       " 'ra',\n",
       " 'ra_error',\n",
       " 'dec',\n",
       " 'dec_error',\n",
       " 'parallax',\n",
       " 'parallax_error',\n",
       " 'parallax_over_error',\n",
       " 'pmra',\n",
       " 'pmra_error',\n",
       " 'pmdec',\n",
       " 'pmdec_error',\n",
       " 'ra_dec_corr',\n",
       " 'ra_parallax_corr',\n",
       " 'ra_pmra_corr',\n",
       " 'ra_pmdec_corr',\n",
       " 'dec_parallax_corr',\n",
       " 'dec_pmra_corr',\n",
       " 'dec_pmdec_corr',\n",
       " 'parallax_pmra_corr',\n",
       " 'parallax_pmdec_corr',\n",
       " 'pmra_pmdec_corr',\n",
       " 'astrometric_n_obs_al',\n",
       " 'astrometric_n_obs_ac',\n",
       " 'astrometric_n_good_obs_al',\n",
       " 'astrometric_n_bad_obs_al',\n",
       " 'astrometric_gof_al',\n",
       " 'astrometric_chi2_al',\n",
       " 'astrometric_excess_noise',\n",
       " 'astrometric_excess_noise_sig',\n",
       " 'astrometric_params_solved',\n",
       " 'astrometric_primary_flag',\n",
       " 'astrometric_weight_al',\n",
       " 'astrometric_pseudo_colour',\n",
       " 'astrometric_pseudo_colour_error',\n",
       " 'mean_varpi_factor_al',\n",
       " 'astrometric_matched_observations',\n",
       " 'visibility_periods_used',\n",
       " 'astrometric_sigma5d_max',\n",
       " 'frame_rotator_object_type',\n",
       " 'matched_observations',\n",
       " 'duplicated_source',\n",
       " 'phot_g_n_obs',\n",
       " 'phot_g_mean_flux',\n",
       " 'phot_g_mean_flux_error',\n",
       " 'phot_g_mean_flux_over_error',\n",
       " 'phot_g_mean_mag',\n",
       " 'phot_bp_n_obs',\n",
       " 'phot_bp_mean_flux',\n",
       " 'phot_bp_mean_flux_error',\n",
       " 'phot_bp_mean_flux_over_error',\n",
       " 'phot_bp_mean_mag',\n",
       " 'phot_rp_n_obs',\n",
       " 'phot_rp_mean_flux',\n",
       " 'phot_rp_mean_flux_error',\n",
       " 'phot_rp_mean_flux_over_error',\n",
       " 'phot_rp_mean_mag',\n",
       " 'phot_bp_rp_excess_factor',\n",
       " 'phot_proc_mode',\n",
       " 'bp_rp',\n",
       " 'bp_g',\n",
       " 'g_rp',\n",
       " 'radial_velocity',\n",
       " 'radial_velocity_error',\n",
       " 'rv_nb_transits',\n",
       " 'rv_template_teff',\n",
       " 'rv_template_logg',\n",
       " 'rv_template_fe_h',\n",
       " 'phot_variable_flag',\n",
       " 'l',\n",
       " 'b',\n",
       " 'ecl_lon',\n",
       " 'ecl_lat',\n",
       " 'priam_flags',\n",
       " 'teff_val',\n",
       " 'teff_percentile_lower',\n",
       " 'teff_percentile_upper',\n",
       " 'a_g_val',\n",
       " 'a_g_percentile_lower',\n",
       " 'a_g_percentile_upper',\n",
       " 'e_bp_min_rp_val',\n",
       " 'e_bp_min_rp_percentile_lower',\n",
       " 'e_bp_min_rp_percentile_upper',\n",
       " 'flame_flags',\n",
       " 'radius_val',\n",
       " 'radius_percentile_lower',\n",
       " 'radius_percentile_upper',\n",
       " 'lum_val',\n",
       " 'lum_percentile_lower',\n",
       " 'lum_percentile_upper',\n",
       " 'hpix12',\n",
       " 'zone',\n",
       " 'dup']"
      ]
     },
     "execution_count": 19,
     "metadata": {},
     "output_type": "execute_result"
    }
   ],
   "source": [
    "gaia.columns"
   ]
  },
  {
   "cell_type": "code",
   "execution_count": 31,
   "metadata": {},
   "outputs": [
    {
     "name": "stdout",
     "output_type": "stream",
     "text": [
      "CPU times: user 18.9 ms, sys: 6.01 ms, total: 24.9 ms\n",
      "Wall time: 2.72 s\n"
     ]
    }
   ],
   "source": [
    "%%time\n",
    "gaia_match = ztf.region(ra1=testra-d, ra2=testra+d, dec1=testdec-d, dec2=testdec+d).crossmatch(gaia).select(\n",
    "    \"matchid\",\"ra\",\"dec\",\"source_id\",\"bp_rp\", \"phot_g_mean_mag\", \"axsdist\").toPandas()"
   ]
  },
  {
   "cell_type": "code",
   "execution_count": 33,
   "metadata": {},
   "outputs": [
    {
     "data": {
      "text/html": [
       "<div>\n",
       "<style scoped>\n",
       "    .dataframe tbody tr th:only-of-type {\n",
       "        vertical-align: middle;\n",
       "    }\n",
       "\n",
       "    .dataframe tbody tr th {\n",
       "        vertical-align: top;\n",
       "    }\n",
       "\n",
       "    .dataframe thead th {\n",
       "        text-align: right;\n",
       "    }\n",
       "</style>\n",
       "<table border=\"1\" class=\"dataframe\">\n",
       "  <thead>\n",
       "    <tr style=\"text-align: right;\">\n",
       "      <th></th>\n",
       "      <th>matchid</th>\n",
       "      <th>ra</th>\n",
       "      <th>dec</th>\n",
       "      <th>source_id</th>\n",
       "      <th>bp_rp</th>\n",
       "      <th>phot_g_mean_mag</th>\n",
       "      <th>axsdist</th>\n",
       "    </tr>\n",
       "  </thead>\n",
       "  <tbody>\n",
       "    <tr>\n",
       "      <th>0</th>\n",
       "      <td>10539322169560</td>\n",
       "      <td>287.985648</td>\n",
       "      <td>13.076047</td>\n",
       "      <td>4314064752141722880</td>\n",
       "      <td>1.962526</td>\n",
       "      <td>20.610218</td>\n",
       "      <td>2.010376e-06</td>\n",
       "    </tr>\n",
       "    <tr>\n",
       "      <th>1</th>\n",
       "      <td>10539322144433</td>\n",
       "      <td>287.985927</td>\n",
       "      <td>13.075574</td>\n",
       "      <td>4314064752144511104</td>\n",
       "      <td>NaN</td>\n",
       "      <td>21.399178</td>\n",
       "      <td>2.962654e-06</td>\n",
       "    </tr>\n",
       "    <tr>\n",
       "      <th>2</th>\n",
       "      <td>10539322095877</td>\n",
       "      <td>287.986183</td>\n",
       "      <td>13.076572</td>\n",
       "      <td>4314064747823789440</td>\n",
       "      <td>1.894012</td>\n",
       "      <td>20.256207</td>\n",
       "      <td>4.053908e-07</td>\n",
       "    </tr>\n",
       "    <tr>\n",
       "      <th>3</th>\n",
       "      <td>10539322095931</td>\n",
       "      <td>287.986859</td>\n",
       "      <td>13.074891</td>\n",
       "      <td>4314064752187515520</td>\n",
       "      <td>2.932623</td>\n",
       "      <td>19.596601</td>\n",
       "      <td>2.977570e-07</td>\n",
       "    </tr>\n",
       "    <tr>\n",
       "      <th>4</th>\n",
       "      <td>10539322022594</td>\n",
       "      <td>287.988868</td>\n",
       "      <td>13.074120</td>\n",
       "      <td>4314064752141447168</td>\n",
       "      <td>2.656782</td>\n",
       "      <td>20.182062</td>\n",
       "      <td>8.946068e-07</td>\n",
       "    </tr>\n",
       "    <tr>\n",
       "      <th>5</th>\n",
       "      <td>10539322022594</td>\n",
       "      <td>287.988868</td>\n",
       "      <td>13.074120</td>\n",
       "      <td>4314064747823772032</td>\n",
       "      <td>NaN</td>\n",
       "      <td>20.916426</td>\n",
       "      <td>4.717453e-06</td>\n",
       "    </tr>\n",
       "  </tbody>\n",
       "</table>\n",
       "</div>"
      ],
      "text/plain": [
       "          matchid          ra        dec            source_id     bp_rp  \\\n",
       "0  10539322169560  287.985648  13.076047  4314064752141722880  1.962526   \n",
       "1  10539322144433  287.985927  13.075574  4314064752144511104       NaN   \n",
       "2  10539322095877  287.986183  13.076572  4314064747823789440  1.894012   \n",
       "3  10539322095931  287.986859  13.074891  4314064752187515520  2.932623   \n",
       "4  10539322022594  287.988868  13.074120  4314064752141447168  2.656782   \n",
       "5  10539322022594  287.988868  13.074120  4314064747823772032       NaN   \n",
       "\n",
       "   phot_g_mean_mag       axsdist  \n",
       "0        20.610218  2.010376e-06  \n",
       "1        21.399178  2.962654e-06  \n",
       "2        20.256207  4.053908e-07  \n",
       "3        19.596601  2.977570e-07  \n",
       "4        20.182062  8.946068e-07  \n",
       "5        20.916426  4.717453e-06  "
      ]
     },
     "execution_count": 33,
     "metadata": {},
     "output_type": "execute_result"
    }
   ],
   "source": [
    "gaia_match"
   ]
  },
  {
   "cell_type": "markdown",
   "metadata": {},
   "source": [
    "\n",
    "### Filter results by value"
   ]
  },
  {
   "cell_type": "markdown",
   "metadata": {},
   "source": [
    "TODO: show an example of filtering returned results"
   ]
  },
  {
   "cell_type": "markdown",
   "metadata": {},
   "source": [
    "### Write lightcurves to disk"
   ]
  },
  {
   "cell_type": "markdown",
   "metadata": {},
   "source": [
    "For up to 100s of thousands of lightcurves it's often most convenient to simply write out the matched results to disk.  Parquet is the best choice because the individual worker nodes can write independently."
   ]
  },
  {
   "cell_type": "code",
   "execution_count": 34,
   "metadata": {},
   "outputs": [],
   "source": [
    "lcmatch = ztf.region(ra1=testra-d, ra2=testra+d, dec1=testdec-d, dec2=testdec+d).select(\n",
    "    'matchid', 'ra', 'dec', 'mjd', 'mag','magerr', 'filterid', 'catflags')"
   ]
  },
  {
   "cell_type": "code",
   "execution_count": null,
   "metadata": {},
   "outputs": [],
   "source": [
    "lcmatch.write.parquet(f'./some_lightcurves.parquet')"
   ]
  },
  {
   "cell_type": "markdown",
   "metadata": {},
   "source": [
    "### Example of creating a new AXS table"
   ]
  },
  {
   "cell_type": "markdown",
   "metadata": {},
   "source": [
    "We need to get our table into a spark Dataframe.  There are several ways to get here, including reading from parquet:"
   ]
  },
  {
   "cell_type": "code",
   "execution_count": null,
   "metadata": {},
   "outputs": [],
   "source": [
    "sdf = spark_session.read.parquet('some_objects.parquet')"
   ]
  },
  {
   "cell_type": "markdown",
   "metadata": {},
   "source": [
    "Reading from a directory of csv files:"
   ]
  },
  {
   "cell_type": "code",
   "execution_count": null,
   "metadata": {},
   "outputs": [],
   "source": [
    "%%time\n",
    "# read a directory of files\n",
    "sdf = spark_session.read.option(\"header\", \"true\").option(\"inferSchema\", \"true\").csv('/epyc/data/gaia_dr2_distances_csv/*.csv.gz')"
   ]
  },
  {
   "cell_type": "markdown",
   "metadata": {},
   "source": [
    "Probably several more examples.  Once we have a spark dataframe, save as a new table:"
   ]
  },
  {
   "cell_type": "code",
   "execution_count": null,
   "metadata": {},
   "outputs": [],
   "source": [
    "catalog.save_axs_table( sdf, 'new_table_name', repartition=True, calculate_zone=True)"
   ]
  },
  {
   "cell_type": "markdown",
   "metadata": {},
   "source": [
    "If you need to drop a table:"
   ]
  },
  {
   "cell_type": "code",
   "execution_count": null,
   "metadata": {},
   "outputs": [],
   "source": [
    "catalog.drop_table('new_table_name')\n"
   ]
  },
  {
   "cell_type": "markdown",
   "metadata": {},
   "source": [
    "Note that you'll also probably have to manually delete the according directory at `/epyc/projects/lsd2/pzwarehouse/` "
   ]
  }
 ],
 "metadata": {
  "kernelspec": {
   "display_name": "Python 3-AXS Spark",
   "language": "python",
   "name": "spark-smj"
  },
  "language_info": {
   "codemirror_mode": {
    "name": "ipython",
    "version": 3
   },
   "file_extension": ".py",
   "mimetype": "text/x-python",
   "name": "python",
   "nbconvert_exporter": "python",
   "pygments_lexer": "ipython3",
   "version": "3.6.8"
  }
 },
 "nbformat": 4,
 "nbformat_minor": 2
}
